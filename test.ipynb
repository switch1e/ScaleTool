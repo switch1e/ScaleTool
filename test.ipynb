{
 "cells": [
  {
   "cell_type": "code",
   "execution_count": 12,
   "metadata": {},
   "outputs": [
    {
     "name": "stdout",
     "output_type": "stream",
     "text": [
      "['A', 'B', 'C#', 'D', 'E', 'F#', 'G#', 'A']\n"
     ]
    }
   ],
   "source": [
    "notes = ['A', 'A#', 'B', 'C', 'C#', 'D', 'D#', 'E', 'F', 'F#', 'G', 'G#']\n",
    "\n",
    "key = 'A'\n",
    "\n",
    "start_i = notes.index(key)\n",
    "scale = []\n",
    "scale.append(key)\n",
    "scale.append(notes[start_i + 2 % len(notes)])\n",
    "scale.append(notes[start_i + 4 % len(notes)])\n",
    "scale.append(notes[start_i + 5 % len(notes)])\n",
    "scale.append(notes[start_i + 7 % len(notes)])\n",
    "scale.append(notes[start_i + 9 % len(notes)])\n",
    "scale.append(notes[start_i + 11 % len(notes)])\n",
    "scale.append(notes[start_i + 12 % len(notes)])\n",
    "print(scale)"
   ]
  },
  {
   "cell_type": "code",
   "execution_count": 15,
   "metadata": {},
   "outputs": [
    {
     "name": "stdout",
     "output_type": "stream",
     "text": [
      "hello world\n"
     ]
    }
   ],
   "source": [
    "notes = ['A', 'A#', 'B', 'C', 'C#', 'D', 'D#', 'E', 'F', 'F#', 'G', 'G#']\n",
    "print(\"hello world\")"
   ]
  }
 ],
 "metadata": {
  "kernelspec": {
   "display_name": "ScaleTool",
   "language": "python",
   "name": "python3"
  },
  "language_info": {
   "codemirror_mode": {
    "name": "ipython",
    "version": 3
   },
   "file_extension": ".py",
   "mimetype": "text/x-python",
   "name": "python",
   "nbconvert_exporter": "python",
   "pygments_lexer": "ipython3",
   "version": "3.10.6"
  },
  "orig_nbformat": 4,
  "vscode": {
   "interpreter": {
    "hash": "7e33036e9bceeba8edbb8604d352da7f31c89922a8233d253342b0c3501a4fb3"
   }
  }
 },
 "nbformat": 4,
 "nbformat_minor": 2
}
